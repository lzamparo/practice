{
 "cells": [
  {
   "cell_type": "markdown",
   "metadata": {},
   "source": [
    "### Missing data values\n",
    "\n",
    "Trying to characterize the missingness of the data in a very simple way."
   ]
  },
  {
   "cell_type": "code",
   "execution_count": 2,
   "metadata": {},
   "outputs": [
    {
     "name": "stdout",
     "output_type": "stream",
     "text": [
      "(2238, 22)\n"
     ]
    }
   ],
   "source": [
    "import pandas as pd\n",
    "import numpy as np\n",
    "\n",
    "survey_data = pd.read_csv(\"https://raw.githubusercontent.com/samtalasila/e-bike-survey-response-results/master/E-Bike_Survey_Responses.csv\")\n",
    "print(survey_data.shape)"
   ]
  },
  {
   "cell_type": "code",
   "execution_count": 13,
   "metadata": {},
   "outputs": [
    {
     "name": "stdout",
     "output_type": "stream",
     "text": [
      "(2238,)\n",
      "(22,)\n",
      "135\n"
     ]
    }
   ],
   "source": [
    "# take a summary of how many missing values appear in the rows versus columns\n",
    "missing_values_rows = survey_data.isna().sum(axis=1)\n",
    "missing_values_cols = survey_data.isna().sum(axis=0)\n",
    "missing_values_total_sum = survey_data.isna().sum()"
   ]
  },
  {
   "cell_type": "code",
   "execution_count": 30,
   "metadata": {},
   "outputs": [
    {
     "name": "stderr",
     "output_type": "stream",
     "text": [
      "/Users/zamparol/anaconda36/lib/python3.6/site-packages/seaborn/categorical.py:1460: FutureWarning: remove_na is deprecated and is a private function. Do not use.\n",
      "  stat_data = remove_na(group_data)\n"
     ]
    },
    {
     "name": "stdout",
     "output_type": "stream",
     "text": [
      "The sixth feature is missing much moreso than usual:  What is your household income?\n",
      "Minor missing effects by column also observed for features: \n",
      "Sex \n",
      " What level of education have you reached? \n",
      " Which category best describes your employment?\n"
     ]
    },
    {
     "data": {
      "image/png": "[encoded data removed]",
      "text/plain": [
       "<matplotlib.figure.Figure at 0x1114776d8>"
      ]
     },
     "metadata": {},
     "output_type": "display_data"
    }
   ],
   "source": [
    "# plot the number of missing data by column\n",
    "%matplotlib inline\n",
    "import seaborn as sns\n",
    "colnames = [name for name, value in missing_values_cols.items()]\n",
    "values = [value for name, value in missing_values_cols.items()]\n",
    "\n",
    "p = sns.barplot([a for a in range(len(colnames))], values)\n",
    "p.set_title(\"Number of missing data by column\")\n",
    "print(\"The sixth feature is missing much moreso than usual: \", colnames[5])\n",
    "print(\"Minor missing effects by column also observed for features: \")\n",
    "print(colnames[2],\"\\n\",colnames[4],\"\\n\",colnames[6])"
   ]
  },
  {
   "cell_type": "code",
   "execution_count": 26,
   "metadata": {},
   "outputs": [
    {
     "name": "stderr",
     "output_type": "stream",
     "text": [
      "/Users/zamparol/anaconda36/lib/python3.6/site-packages/seaborn/categorical.py:1460: FutureWarning: remove_na is deprecated and is a private function. Do not use.\n",
      "  stat_data = remove_na(group_data)\n"
     ]
    },
    {
     "data": {
      "text/plain": [
       "Text(0.5,1,'Number of missing data by row with at least one non-zero value')"
      ]
     },
     "execution_count": 26,
     "metadata": {},
     "output_type": "execute_result"
    },
    {
     "data": {
      "image/png": "[encoded data removed]",
      "text/plain": [
       "<matplotlib.figure.Figure at 0x1112ed5f8>"
      ]
     },
     "metadata": {},
     "output_type": "display_data"
    }
   ],
   "source": [
    "# for those rows with any missing data, plot the numbe of missing data by row\n",
    "missing_values_rows_nonzero = missing_values_rows[missing_values_rows > 0]\n",
    "colnames = [name for name, value in missing_values_rows_nonzero.items()]\n",
    "values = [value for name, value in missing_values_rows_nonzero.items()]\n",
    "\n",
    "p = sns.barplot([a for a in range(len(colnames))], values)\n",
    "p.set_title(\"Number of missing data by row with at least one non-zero value\")"
   ]
  }
 ],
 "metadata": {
  "kernelspec": {
   "display_name": "Python 3",
   "language": "python",
   "name": "python3"
  },
  "language_info": {
   "codemirror_mode": {
    "name": "ipython",
    "version": 3
   },
   "file_extension": ".py",
   "mimetype": "text/x-python",
   "name": "python",
   "nbconvert_exporter": "python",
   "pygments_lexer": "ipython3",
   "version": "3.6.4"
  }
 },
 "nbformat": 4,
 "nbformat_minor": 2
}
